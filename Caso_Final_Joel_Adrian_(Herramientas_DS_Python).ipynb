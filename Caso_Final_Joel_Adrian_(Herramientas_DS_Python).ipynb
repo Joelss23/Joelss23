{
  "nbformat": 4,
  "nbformat_minor": 0,
  "metadata": {
    "colab": {
      "private_outputs": true,
      "provenance": []
    },
    "kernelspec": {
      "name": "python3",
      "display_name": "Python 3"
    },
    "language_info": {
      "name": "python"
    }
  },
  "cells": [
    {
      "cell_type": "markdown",
      "source": [
        "#Caso Final Joel Adrian\n"
      ],
      "metadata": {
        "id": "92JHuP6IQywv"
      }
    },
    {
      "cell_type": "markdown",
      "source": [
        "##Instalar Librerias"
      ],
      "metadata": {
        "id": "IrbOwWuxdhDA"
      }
    },
    {
      "cell_type": "code",
      "source": [
        "#import pandas as pd\n"
      ],
      "metadata": {
        "id": "r9tKgt68dlBA"
      },
      "execution_count": null,
      "outputs": []
    },
    {
      "cell_type": "markdown",
      "source": [
        "##Funciones"
      ],
      "metadata": {
        "id": "MKFI_mG-dn9M"
      }
    },
    {
      "cell_type": "code",
      "source": [
        "#Validar si el numero es primo\n",
        "def es_primo(n):\n",
        "\n",
        "    if n <= 1:\n",
        "        return False\n",
        "    for i in range(2, int(n**0.5) + 1):\n",
        "        if n % i == 0:\n",
        "            return False\n",
        "    return True"
      ],
      "metadata": {
        "id": "Dd1G3mzgdrPL"
      },
      "execution_count": null,
      "outputs": []
    },
    {
      "cell_type": "code",
      "source": [
        "#Calcular el producto de los numeros\n",
        "def m(n):\n",
        "    producto_digitos = 1\n",
        "    for digito in str(n):\n",
        "        producto_digitos *= int(digito)\n",
        "    return producto_digitos"
      ],
      "metadata": {
        "id": "nL1lv4HYeDB-"
      },
      "execution_count": null,
      "outputs": []
    },
    {
      "cell_type": "code",
      "source": [
        "#Obtener el reverso del numero\n",
        "def r(n):\n",
        "    return int(str(n)[::-1])"
      ],
      "metadata": {
        "id": "SvFJ7gvseEit"
      },
      "execution_count": null,
      "outputs": []
    },
    {
      "cell_type": "markdown",
      "source": [
        "##Creacion de lista y data frame"
      ],
      "metadata": {
        "id": "kEJ3-ZVtd7Aw"
      }
    },
    {
      "cell_type": "code",
      "source": [
        "#Generar lista de primos hasta el 100.000.000\n",
        "primos = [n for n in range(2, 1000001) if es_primo(n)]\n",
        "posiciones_primos = {primo: index + 1 for index, primo in enumerate(primos)}"
      ],
      "metadata": {
        "id": "Bw7sWkqseAGJ"
      },
      "execution_count": null,
      "outputs": []
    },
    {
      "cell_type": "code",
      "source": [
        "#Crear un DataFrame con los numeros primos y sus posiciones\n",
        "df_primos = pd.DataFrame(primos, columns=[\"Numero Primo\"])\n",
        "df_primos[\"Posicion\"] = df_primos.index + 1\n",
        "\n",
        "#Imprimir los numeros primos\n",
        "print(\"Primeros numeros de primos del 2 al 1,000,000 y sus posiciones:\")\n",
        "print(df_primos.head(23).to_string(index=False))  #Mostrar los primeros numeros primos\n",
        "\n",
        "print(\"\\nUltimos numeros primos del 2 al 1,000,000 y sus posiciones:\")\n",
        "print(df_primos.tail(5).to_string(index=False))  #Mostrar los ultimos numeros primos"
      ],
      "metadata": {
        "id": "oOr9sWTNebFj"
      },
      "execution_count": null,
      "outputs": []
    },
    {
      "cell_type": "markdown",
      "source": [
        "##Validar Condiciones del Numero de Sheldon Cooper"
      ],
      "metadata": {
        "id": "cccXyzQDfpcJ"
      }
    },
    {
      "cell_type": "code",
      "source": [
        "#Solicitar al usuario un numero primo\n",
        "entrada = int(input(\"\\nIngresa un numero para evaluar: \"))\n",
        "\n",
        "#Verificar si el numero es primo\n",
        "if not es_primo(entrada):\n",
        "    print(f\"{entrada} no es un numero primo\")\n",
        "else:\n",
        "    print(f\"{entrada} es un numero primo\")\n",
        "\n",
        "    #Evaluar las condiciones\n",
        "    posicion = posiciones_primos.get(entrada, None)\n",
        "    producto_digitos = m(entrada)\n",
        "    reverso = r(entrada)\n",
        "\n",
        "    print(f\"Producto de los digitos de {entrada}: {producto_digitos}\")\n",
        "\n",
        "    if position is not None:\n",
        "        print(f\"Posicion de {entrada} en la lista de primos: {posicion}\")\n",
        "        if posicion == producto_digitos:\n",
        "            #Condicion Espejo\n",
        "            posicion_espejo = r(posicion)\n",
        "            if posicion_espejo in posiciones_primos.values():\n",
        "                espejo = primos[posicion_espejo - 1]\n",
        "                print(f\"Posicion Espejo ({posicion}): {posicion_espejo}\")\n",
        "                if espejo == reverso:\n",
        "                    print(f\"El primo {entrada} cumple con las condiciones\")\n",
        "                else:\n",
        "                    print(f\"El primo {entrada} no cumple con la condición del espejo\")\n",
        "            else:\n",
        "                print(f\"El primo {entrada} no tiene una posición espejo válida\")\n",
        "        else:\n",
        "            print(f\"El producto de los dígitos de {entrada} no es igual a su posición en la lista de primos\")\n",
        "    else:\n",
        "        print(f\"{entrada} no se encuentra en la lista de primos\")\n"
      ],
      "metadata": {
        "id": "CtJn4V_GZ5RE"
      },
      "execution_count": null,
      "outputs": []
    }
  ]
}