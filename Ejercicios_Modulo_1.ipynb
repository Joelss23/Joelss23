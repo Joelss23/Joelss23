{
  "nbformat": 4,
  "nbformat_minor": 0,
  "metadata": {
    "colab": {
      "provenance": [],
      "collapsed_sections": [
        "iUjGxXOlLoGR",
        "LItpznWWLv2v",
        "rrmtAU2C_AuM",
        "yCUVlxpZMnNB",
        "_zy7Kv6ROULY",
        "BuE6I0IlWYGk",
        "fTslcMrpMG7n",
        "PsS6cM8PTzVq"
      ]
    },
    "kernelspec": {
      "name": "python3",
      "display_name": "Python 3"
    },
    "language_info": {
      "name": "python"
    }
  },
  "cells": [
    {
      "cell_type": "markdown",
      "source": [
        "##Modulo 1\n"
      ],
      "metadata": {
        "id": "pA_EXQuY-5jZ"
      }
    },
    {
      "cell_type": "markdown",
      "source": [
        "###Ejercicio 1"
      ],
      "metadata": {
        "id": "iUjGxXOlLoGR"
      }
    },
    {
      "cell_type": "code",
      "source": [
        "#Imprimir Hello World 73 veces\n",
        "for y in range(73):\n",
        "    print(\"Hello, World!\")"
      ],
      "metadata": {
        "colab": {
          "base_uri": "https://localhost:8080/"
        },
        "collapsed": true,
        "id": "NWs5l_y0FICY",
        "outputId": "f158c354-b918-4b64-e0bf-c9f712893f5e"
      },
      "execution_count": 1,
      "outputs": [
        {
          "output_type": "stream",
          "name": "stdout",
          "text": [
            "Hello, World!\n",
            "Hello, World!\n",
            "Hello, World!\n",
            "Hello, World!\n",
            "Hello, World!\n",
            "Hello, World!\n",
            "Hello, World!\n",
            "Hello, World!\n",
            "Hello, World!\n",
            "Hello, World!\n",
            "Hello, World!\n",
            "Hello, World!\n",
            "Hello, World!\n",
            "Hello, World!\n",
            "Hello, World!\n",
            "Hello, World!\n",
            "Hello, World!\n",
            "Hello, World!\n",
            "Hello, World!\n",
            "Hello, World!\n",
            "Hello, World!\n",
            "Hello, World!\n",
            "Hello, World!\n",
            "Hello, World!\n",
            "Hello, World!\n",
            "Hello, World!\n",
            "Hello, World!\n",
            "Hello, World!\n",
            "Hello, World!\n",
            "Hello, World!\n",
            "Hello, World!\n",
            "Hello, World!\n",
            "Hello, World!\n",
            "Hello, World!\n",
            "Hello, World!\n",
            "Hello, World!\n",
            "Hello, World!\n",
            "Hello, World!\n",
            "Hello, World!\n",
            "Hello, World!\n",
            "Hello, World!\n",
            "Hello, World!\n",
            "Hello, World!\n",
            "Hello, World!\n",
            "Hello, World!\n",
            "Hello, World!\n",
            "Hello, World!\n",
            "Hello, World!\n",
            "Hello, World!\n",
            "Hello, World!\n",
            "Hello, World!\n",
            "Hello, World!\n",
            "Hello, World!\n",
            "Hello, World!\n",
            "Hello, World!\n",
            "Hello, World!\n",
            "Hello, World!\n",
            "Hello, World!\n",
            "Hello, World!\n",
            "Hello, World!\n",
            "Hello, World!\n",
            "Hello, World!\n",
            "Hello, World!\n",
            "Hello, World!\n",
            "Hello, World!\n",
            "Hello, World!\n",
            "Hello, World!\n",
            "Hello, World!\n",
            "Hello, World!\n",
            "Hello, World!\n",
            "Hello, World!\n",
            "Hello, World!\n",
            "Hello, World!\n"
          ]
        }
      ]
    },
    {
      "cell_type": "markdown",
      "source": [
        "###Ejercicio 2"
      ],
      "metadata": {
        "id": "LItpznWWLv2v"
      }
    },
    {
      "cell_type": "code",
      "source": [
        "#Nro 73 de Fibonnaci\n",
        "def fibonacci(x):\n",
        "    a, b = 0, 1\n",
        "    for y in range(x):\n",
        "        a, b = b, a + b\n",
        "    return a\n",
        "resultado = fibonacci(73)\n",
        "print(\"El #73 de Fibonacci\", resultado)"
      ],
      "metadata": {
        "colab": {
          "base_uri": "https://localhost:8080/"
        },
        "id": "oWVHqlyuFSdU",
        "outputId": "e54bca37-98b9-4583-9c3d-e39c4b8152de"
      },
      "execution_count": 2,
      "outputs": [
        {
          "output_type": "stream",
          "name": "stdout",
          "text": [
            "El #73 de Fibonacci 806515533049393\n"
          ]
        }
      ]
    },
    {
      "cell_type": "code",
      "source": [
        "#Librerias\n",
        "import pandas as pd\n",
        "import numpy as np\n",
        "\n",
        "#Definir columnas del Dataframe\n",
        "t = np.arange(0.02, 4.00, 0.02)[:201]\n",
        "s = np.sin(t)\n",
        "s10 = np.roll(s, 10)\n",
        "d = s - s10\n",
        "p = []\n",
        "for i in d:\n",
        "    if i > 0:\n",
        "        p.append(1)\n",
        "    else:\n",
        "        p.append(0)\n",
        "\n",
        "#DataFrame\n",
        "df = pd.DataFrame({\n",
        "    't': t,\n",
        "    's': s,\n",
        "    's10': s10,\n",
        "    'd': d,\n",
        "    'p': p,\n",
        "})\n",
        "\n",
        "print(df)\n",
        "df.to_csv('dataframe.csv', sep=';')"
      ],
      "metadata": {
        "colab": {
          "base_uri": "https://localhost:8080/"
        },
        "id": "M5FpUZ5jF_yo",
        "outputId": "65ffec1c-8b33-4539-f337-58e83781c0bb"
      },
      "execution_count": 3,
      "outputs": [
        {
          "output_type": "stream",
          "name": "stdout",
          "text": [
            "        t         s       s10         d  p\n",
            "0    0.02  0.019999 -0.611858  0.631857  1\n",
            "1    0.04  0.039989 -0.627554  0.667543  1\n",
            "2    0.06  0.059964 -0.642999  0.702963  1\n",
            "3    0.08  0.079915 -0.658186  0.738101  1\n",
            "4    0.10  0.099833 -0.673111  0.772944  1\n",
            "..    ...       ...       ...       ... ..\n",
            "194  3.90 -0.687766 -0.529836 -0.157930  0\n",
            "195  3.92 -0.702146 -0.546691 -0.155455  0\n",
            "196  3.94 -0.716246 -0.563327 -0.152918  0\n",
            "197  3.96 -0.730058 -0.579738 -0.150320  0\n",
            "198  3.98 -0.743579 -0.595917 -0.147662  0\n",
            "\n",
            "[199 rows x 5 columns]\n"
          ]
        }
      ]
    },
    {
      "cell_type": "markdown",
      "source": [
        "### Ejercicio 3"
      ],
      "metadata": {
        "id": "rrmtAU2C_AuM"
      }
    },
    {
      "cell_type": "code",
      "source": [
        "#Librerias\n",
        "import pandas as pd\n",
        "import numpy as np\n",
        "\n",
        "#Definir columnas del Dataframe\n",
        "t = np.arange(0.02, 4.00, 0.02)[:201]\n",
        "s = np.sin(t)\n",
        "s10 = np.roll(s, 10)\n",
        "d = s - s10\n",
        "p = []\n",
        "for i in d:\n",
        "    if i > 0:\n",
        "        p.append(1)\n",
        "    else:\n",
        "        p.append(0)\n",
        "\n",
        "media_positivos = d[d > 0].mean()\n",
        "media_negativos = d[d < 0].mean()\n",
        "m = [media_positivos if val == 1\n",
        "     else media_negativos\n",
        "     for val in p]\n",
        "\n",
        "\n",
        "#DataFrame\n",
        "df = pd.DataFrame({\n",
        "    't': t,\n",
        "    's': s,\n",
        "    's10': s10,\n",
        "    'd': d,\n",
        "    'p': p,\n",
        "    'm': m\n",
        "})\n",
        "\n",
        "print(df)\n",
        "df.to_csv('dataframe.csv', sep=';')\n"
      ],
      "metadata": {
        "colab": {
          "base_uri": "https://localhost:8080/"
        },
        "id": "B81kkzv3_QYb",
        "outputId": "941c1aeb-03bc-48db-a29d-35adbbf227d0"
      },
      "execution_count": 4,
      "outputs": [
        {
          "output_type": "stream",
          "name": "stdout",
          "text": [
            "        t         s       s10         d  p         m\n",
            "0    0.02  0.019999 -0.611858  0.631857  1  0.202133\n",
            "1    0.04  0.039989 -0.627554  0.667543  1  0.202133\n",
            "2    0.06  0.059964 -0.642999  0.702963  1  0.202133\n",
            "3    0.08  0.079915 -0.658186  0.738101  1  0.202133\n",
            "4    0.10  0.099833 -0.673111  0.772944  1  0.202133\n",
            "..    ...       ...       ...       ... ..       ...\n",
            "194  3.90 -0.687766 -0.529836 -0.157930  0 -0.144629\n",
            "195  3.92 -0.702146 -0.546691 -0.155455  0 -0.144629\n",
            "196  3.94 -0.716246 -0.563327 -0.152918  0 -0.144629\n",
            "197  3.96 -0.730058 -0.579738 -0.150320  0 -0.144629\n",
            "198  3.98 -0.743579 -0.595917 -0.147662  0 -0.144629\n",
            "\n",
            "[199 rows x 6 columns]\n"
          ]
        }
      ]
    },
    {
      "cell_type": "markdown",
      "source": [
        "####Sumar los 200 primeros numeros de la serie aritmetica con incremento 1 que comienza en 1. Es decir 1,2,3,4,5,6"
      ],
      "metadata": {
        "id": "yCUVlxpZMnNB"
      }
    },
    {
      "cell_type": "code",
      "source": [
        "suma=0\n",
        "for n in range(1, 201):\n",
        "    suma += n\n",
        "print(suma)\n",
        "\n"
      ],
      "metadata": {
        "colab": {
          "base_uri": "https://localhost:8080/"
        },
        "id": "MeLy0XjSMy8_",
        "outputId": "65ae5a08-5afc-4969-f0b6-b56090c2ba24"
      },
      "execution_count": 5,
      "outputs": [
        {
          "output_type": "stream",
          "name": "stdout",
          "text": [
            "20100\n"
          ]
        }
      ]
    },
    {
      "cell_type": "markdown",
      "source": [
        "####Suma los 200 primeros numeros de la serie aritmetica con incremento 1 que comienza en 1 y alternan uno positivo y otro negativo. Es decir -1,2-3,4"
      ],
      "metadata": {
        "id": "_zy7Kv6ROULY"
      }
    },
    {
      "cell_type": "code",
      "source": [
        "Suma=0\n",
        "for n in range(1, 201):\n",
        "    if n % 2 == 0:\n",
        "        Suma -= n\n",
        "    else:\n",
        "        Suma += n\n",
        "print(Suma)"
      ],
      "metadata": {
        "colab": {
          "base_uri": "https://localhost:8080/"
        },
        "id": "zlwKKFyUOlUL",
        "outputId": "77f3db2c-663c-4c47-e541-46f1b8661e94"
      },
      "execution_count": 6,
      "outputs": [
        {
          "output_type": "stream",
          "name": "stdout",
          "text": [
            "-100\n"
          ]
        }
      ]
    },
    {
      "cell_type": "markdown",
      "source": [
        "####Suma de los primeros 200 valores de n para 1/n^s y representamos esos valores en el eje y los valores S entre [-1,5]"
      ],
      "metadata": {
        "id": "k6zMoBwEL-Q4"
      }
    },
    {
      "cell_type": "code",
      "source": [
        "import matplotlib.pyplot as plt\n",
        "def sum200(s):\n",
        "  return sum([n**(-s) for n in range(1,201)])\n",
        "x = np.arange(-1,5,0.1)\n",
        "y = [sum200(s) for s in x]\n",
        "plt.plot(x, y)"
      ],
      "metadata": {
        "colab": {
          "base_uri": "https://localhost:8080/",
          "height": 0
        },
        "id": "r-R5JbwgMW8H",
        "outputId": "4af5f502-f291-40c2-8c1c-7a9b29ff748d"
      },
      "execution_count": 7,
      "outputs": [
        {
          "output_type": "execute_result",
          "data": {
            "text/plain": [
              "[<matplotlib.lines.Line2D at 0x7d0be7f53550>]"
            ]
          },
          "metadata": {},
          "execution_count": 7
        },
        {
          "output_type": "display_data",
          "data": {
            "text/plain": [
              "<Figure size 640x480 with 1 Axes>"
            ],
            "image/png": "[encoded data removed]"
          },
          "metadata": {}
        }
      ]
    },
    {
      "cell_type": "markdown",
      "source": [
        "###Ejercicio 6"
      ],
      "metadata": {
        "id": "BuE6I0IlWYGk"
      }
    },
    {
      "cell_type": "markdown",
      "source": [
        "####Definir si un numero es primo"
      ],
      "metadata": {
        "id": "fTslcMrpMG7n"
      }
    },
    {
      "cell_type": "code",
      "source": [
        "def primo(n):\n",
        "    if n < 2:\n",
        "        return False\n",
        "    for i in range(2, int(n**0.5) + 1):\n",
        "        if n % i == 0:\n",
        "            return False\n",
        "    return True\n",
        "\n",
        "contador = 0\n",
        "numero = 1\n",
        "while contador < 5:\n",
        "    numero += 1\n",
        "    if primo(numero):\n",
        "        contador += 1\n",
        "\n",
        "#Imprimir el número primo\n",
        "print(f\"El número primo es: {numero}\")\n",
        "\n",
        "if primo(numero):\n",
        "    print(f\"{numero} es un número primo.\")\n",
        "else:\n",
        "    print(f\"{numero} no es un número primo.\")"
      ],
      "metadata": {
        "colab": {
          "base_uri": "https://localhost:8080/"
        },
        "id": "Xd4XIF1xWYrc",
        "outputId": "5733f64a-5952-4d8d-dcb6-b153286ec4de"
      },
      "execution_count": 8,
      "outputs": [
        {
          "output_type": "stream",
          "name": "stdout",
          "text": [
            "El número primo es: 11\n",
            "11 es un número primo.\n"
          ]
        }
      ]
    },
    {
      "cell_type": "markdown",
      "source": [
        "#### Lista de nros Primos"
      ],
      "metadata": {
        "id": "PsS6cM8PTzVq"
      }
    },
    {
      "cell_type": "code",
      "source": [
        "def primo(n):\n",
        "    if n < 2:\n",
        "        return False\n",
        "    for i in range(2, int(n**0.5) + 1):\n",
        "        if n % i == 0:\n",
        "            return False\n",
        "    return True\n",
        "\n",
        "#Lista de numeros primos\n",
        "numeros_primos = []\n",
        "numero = 1\n",
        "\n",
        "#Encontrar números\n",
        "while len(numeros_primos) < 73:\n",
        "    numero += 1\n",
        "    if primo(numero):\n",
        "        numeros_primos.append(numero)\n",
        "\n",
        "#Imprimir la lista\n",
        "print(\"Lista de los números primos:\")\n",
        "print(numeros_primos)"
      ],
      "metadata": {
        "colab": {
          "base_uri": "https://localhost:8080/"
        },
        "id": "y9R-QjDpTyXp",
        "outputId": "b2fa557f-0362-4f1a-accf-66aa174afea7"
      },
      "execution_count": 9,
      "outputs": [
        {
          "output_type": "stream",
          "name": "stdout",
          "text": [
            "Lista de los números primos:\n",
            "[2, 3, 5, 7, 11, 13, 17, 19, 23, 29, 31, 37, 41, 43, 47, 53, 59, 61, 67, 71, 73, 79, 83, 89, 97, 101, 103, 107, 109, 113, 127, 131, 137, 139, 149, 151, 157, 163, 167, 173, 179, 181, 191, 193, 197, 199, 211, 223, 227, 229, 233, 239, 241, 251, 257, 263, 269, 271, 277, 281, 283, 293, 307, 311, 313, 317, 331, 337, 347, 349, 353, 359, 367]\n"
          ]
        }
      ]
    },
    {
      "cell_type": "markdown",
      "source": [
        "####Realizar una funcion que te permita reconocer la densidad de numeros primos"
      ],
      "metadata": {
        "id": "41iFBAl2bDqf"
      }
    },
    {
      "cell_type": "code",
      "source": [
        "#Densidad de números primos\n",
        "def densidad_primos(inicio, fin):\n",
        "    total_numeros = fin - inicio + 1\n",
        "    contador_primos = sum(1 for i in range(inicio, fin + 1) if primo(i))\n",
        "    densidad = contador_primos / total_numeros\n",
        "    return densidad\n",
        "\n",
        "#Cálculo de densidad\n",
        "inicio = 1\n",
        "fin = 100\n",
        "densidad = densidad_primos(inicio, fin)\n",
        "print(f\"Densidad de números primos entre {inicio} y {fin}: {densidad:.2f}\")"
      ],
      "metadata": {
        "colab": {
          "base_uri": "https://localhost:8080/"
        },
        "id": "Q8XeyBWINQgH",
        "outputId": "d1357ae1-471e-4bb8-c831-f477bb311bdf"
      },
      "execution_count": 10,
      "outputs": [
        {
          "output_type": "stream",
          "name": "stdout",
          "text": [
            "Densidad de números primos entre 1 y 100: 0.25\n"
          ]
        }
      ]
    }
  ]
}