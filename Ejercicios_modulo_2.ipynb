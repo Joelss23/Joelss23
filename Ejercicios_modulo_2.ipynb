{
  "nbformat": 4,
  "nbformat_minor": 0,
  "metadata": {
    "colab": {
      "private_outputs": true,
      "provenance": []
    },
    "kernelspec": {
      "name": "python3",
      "display_name": "Python 3"
    },
    "language_info": {
      "name": "python"
    }
  },
  "cells": [
    {
      "cell_type": "markdown",
      "source": [
        "#EJERCICIOS MODULO 2"
      ],
      "metadata": {
        "id": "srncJTuqpR62"
      }
    },
    {
      "cell_type": "markdown",
      "source": [
        "## Ejercicio 3"
      ],
      "metadata": {
        "id": "OlT0b7qgOZd1"
      }
    },
    {
      "cell_type": "code",
      "execution_count": null,
      "metadata": {
        "id": "kWCiwfOMj9kz"
      },
      "outputs": [],
      "source": [
        "#Importar bibliotecas necesarias\n",
        "import pandas as pd\n",
        "import matplotlib.pyplot as plt\n",
        "import seaborn as sns\n",
        "from sklearn.linear_model import LogisticRegression\n",
        "from sklearn.preprocessing import LabelEncoder\n",
        "from sklearn.model_selection import train_test_split\n",
        "from sklearn.metrics import accuracy_score\n",
        "\n",
        "#Cargar el dataset\n",
        "data = pd.read_csv(\"big_bang_theory_dataset.csv\")\n",
        "\n",
        "#Leer dataset\n",
        "data.head()"
      ]
    },
    {
      "cell_type": "markdown",
      "source": [
        "###Histogramas de las ubicaciones donde Sheldon dice Penny"
      ],
      "metadata": {
        "id": "H1hR01BnpbGh"
      }
    },
    {
      "cell_type": "code",
      "source": [
        "#Filtrar dialogos donde el personaje es Sheldon\n",
        "sheldon_data = data[data['Speaker'] == 'Sheldon']\n",
        "solo_penny = sheldon_data[sheldon_data['Text'] == \"Penny.\"]\n",
        "contiene_penny = sheldon_data[sheldon_data['Text'].str.contains(\"Penny\", case=False, na=False)]\n",
        "\n",
        "#Crear los histogramas\n",
        "plt.figure(figsize=(14, 6))"
      ],
      "metadata": {
        "id": "zOwEARZAkHpp"
      },
      "execution_count": null,
      "outputs": []
    },
    {
      "cell_type": "markdown",
      "source": [
        "###Histograma exclusivo Penny"
      ],
      "metadata": {
        "id": "1g_UYivMQylv"
      }
    },
    {
      "cell_type": "code",
      "source": [
        "# Histograma exclusivo Penny\n",
        "plt.subplot(1, 2, 1)\n",
        "solo_penny['Location'].value_counts().plot(kind='bar', color='skyblue')\n",
        "plt.title(\"Ubicaciones donde Sheldon dice exclusivamente 'Penny'\")\n",
        "plt.xlabel(\"Ubicacion\")\n",
        "plt.ylabel(\"Frecuencia\")"
      ],
      "metadata": {
        "id": "u177qYVxQquG"
      },
      "execution_count": null,
      "outputs": []
    },
    {
      "cell_type": "markdown",
      "source": [
        "###Histograma donde contiene Penny\n"
      ],
      "metadata": {
        "id": "ylacnMn_RSnr"
      }
    },
    {
      "cell_type": "code",
      "source": [
        "#Histograma donde contiene Penny\n",
        "plt.subplot(1, 2, 2)\n",
        "contains_penny['Location'].value_counts().plot(kind='bar', color='lightgreen')\n",
        "plt.title(\"Ubicaciones donde Sheldon dice dialogos que contienen 'Penny'\")\n",
        "plt.xlabel(\"Ubicacion\")\n",
        "plt.ylabel(\"Frecuencia\")\n",
        "\n",
        "plt.tight_layout()\n",
        "plt.show()"
      ],
      "metadata": {
        "id": "AeB2im8HRV7j"
      },
      "execution_count": null,
      "outputs": []
    },
    {
      "cell_type": "markdown",
      "source": [
        "##Ejercicio 4"
      ],
      "metadata": {
        "id": "DKMcjvjxRkTk"
      }
    },
    {
      "cell_type": "markdown",
      "source": [
        "###Representar las ubicaciones en el eje Y y el personaje en el eje X"
      ],
      "metadata": {
        "id": "Hp4W3UlDR1T6"
      }
    },
    {
      "cell_type": "code",
      "source": [
        "#Representar las ubicaciones en el eje Y y el personaje en el eje X\n",
        "plt.figure(figsize=(10, 8))\n",
        "sns.countplot(data=data, y='Location', hue='Speaker', dodge=False)\n",
        "plt.title(\"Frecuencia de aparicion por ubicacion y personaje\")\n",
        "plt.xlabel(\"Frecuencia\")\n",
        "plt.ylabel(\"Ubicacion\")\n",
        "plt.legend(title=\"Personaje\")\n",
        "plt.show()"
      ],
      "metadata": {
        "id": "gJsgPGvZRyr3"
      },
      "execution_count": null,
      "outputs": []
    },
    {
      "cell_type": "markdown",
      "source": [
        "##Ejercicio 5"
      ],
      "metadata": {
        "id": "PUHOIZifSulB"
      }
    },
    {
      "cell_type": "markdown",
      "source": [
        "### Agrupar por temporada y personaje contar menciones de Penny y aplicar regresión logística"
      ],
      "metadata": {
        "id": "B4J6n5THSw1k"
      }
    },
    {
      "cell_type": "code",
      "source": [
        "#Crear columna con el conteo de menciones de \"Penny\"\n",
        "data['Menciones_Penny'] = data['Text'].str.contains(\"Penny\", case=False, na=False).astype(int)\n",
        "\n",
        "#Agrupar por temporada y personaje\n",
        "agrupar_data = data.groupby(['Season', 'Speaker']).agg(\n",
        "    Menciones_Penny=('Menciones_Penny', 'sum')\n",
        ").reset_index()\n",
        "\n",
        "#Crear un indice para cada grupo\n",
        "agrupar_data['Group_Index'] = agrupar_data.groupby(['Season', 'Speaker']).ngroup()\n",
        "\n",
        "#Entrenar modelo\n",
        "label_encoder = LabelEncoder()\n",
        "agrupar_data['Speaker_encoded'] = label_encoder.fit_transform(agrupar_data['Speaker'])\n",
        "\n",
        "X = agrupar_data[['Menciones_Penny', 'Season']]\n",
        "y = agrupar_data['Speaker_encoded']\n",
        "\n",
        "#Dividir conjunto de datos en Test y Train\n",
        "X_train, X_test, y_train, y_test = train_test_split(X, y, test_size=0.2, random_state=0)\n",
        "\n",
        "#Regresión logistica\n",
        "log_reg = LogisticRegression(max_iter=1000)\n",
        "log_reg.fit(X_train, y_train)\n",
        "\n",
        "#Prediccion y exactitud\n",
        "y_pred = log_reg.predict(X_test)\n",
        "accuracy = accuracy_score(y_test, y_pred)\n",
        "\n",
        "print(f\"Exactitud de la regresion logistica: {accuracy}\")"
      ],
      "metadata": {
        "id": "x4E0hkvwS8cq"
      },
      "execution_count": null,
      "outputs": []
    }
  ]
}